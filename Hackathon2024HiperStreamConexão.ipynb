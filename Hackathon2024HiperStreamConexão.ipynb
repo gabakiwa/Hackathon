{
  "nbformat": 4,
  "nbformat_minor": 0,
  "metadata": {
    "colab": {
      "provenance": []
    },
    "kernelspec": {
      "name": "python3",
      "display_name": "Python 3"
    },
    "language_info": {
      "name": "python"
    }
  },
  "cells": [
    {
      "cell_type": "markdown",
      "source": [
        "**Hackathon 2024 da Escola de Engenharia (EE) da Universidade Presbiteriana Mackenzie (UPM)**\n",
        "\n",
        "Códigos da equipe Conexão\n",
        "\n",
        "Integrantes do grupo:\n",
        "\n",
        "\n",
        "*   Amanda Pageu Silva\n",
        "*   Gabriel Akira Wakavaiachi\n",
        "*   Renan Yudi Fukumori\n",
        "\n"
      ],
      "metadata": {
        "id": "KszET_gSXygE"
      }
    },
    {
      "cell_type": "markdown",
      "source": [
        "#Sem Comentário"
      ],
      "metadata": {
        "id": "uOFZGkZ_ZBCS"
      }
    },
    {
      "cell_type": "code",
      "source": [
        "import graphviz as gz\n",
        "import pandas as pd\n",
        "import re\n",
        "\n",
        "url = \"https://raw.githubusercontent.com/gabakiwa/Hackathon/main/baseparateste-1.csv\"\n",
        "Base = pd.read_csv(url)\n",
        "\n",
        "grafo = {}\n",
        "dot = gz.Digraph(graph_attr={'rankdir': 'LR'})\n",
        "for _, row in Base.iterrows():\n",
        "    aplicacao = re.sub(r\"[^\\w:/-]\", \"\", row[\"Nome\"])\n",
        "    origem = re.sub(r\"\\W\", \"\", row[\"PastaOrigem\"])\n",
        "    destino =  re.sub(r\"\\W\", \"\", row[\"PastaDestino\"]) if not pd.isnull(row['PastaDestino']) else \"\"\n",
        "\n",
        "    if backup is not None:\n",
        "\n",
        "        if origem not in grafo:\n",
        "            grafo[origem] = []\n",
        "\n",
        "            label = f\"{origem}\\n{row['Nome']}\"\n",
        "            dot.node(origem, label=label)\n",
        "\n",
        "        grafo[origem].append(destino)\n",
        "\n",
        "        dot.node(destino)\n",
        "\n",
        "for k, v in grafo.items():\n",
        "    for n in v:\n",
        "        dot.edge(k, n)\n",
        "\n",
        "dot.attr(rank='same')\n",
        "for i, node in enumerate(grafo.keys()):\n",
        "    dot.attr(rank='same', _attributes={'rank': 'same', 'same': f'{node};'})\n",
        "\n",
        "dot.render('OrigemDestino', format='pdf', cleanup=True)\n",
        "print(\"Diagrama do grafo dividido em camadas verticais gerado com sucesso como 'OrigemDestino.pdf'\")"
      ],
      "metadata": {
        "colab": {
          "base_uri": "https://localhost:8080/"
        },
        "id": "tMkKufqrZApV",
        "outputId": "57393728-fb06-42af-e4af-d40defff732b"
      },
      "execution_count": null,
      "outputs": [
        {
          "output_type": "stream",
          "name": "stdout",
          "text": [
            "Diagrama do grafo dividido em camadas verticais gerado com sucesso como 'OrigemDestino.pdf'\n"
          ]
        }
      ]
    },
    {
      "cell_type": "code",
      "source": [
        "import graphviz as gz\n",
        "import pandas as pd\n",
        "import re\n",
        "\n",
        "url = \"https://raw.githubusercontent.com/gabakiwa/Hackathon/main/baseparateste-1.csv\"\n",
        "Base = pd.read_csv(url)\n",
        "\n",
        "grafo = {}\n",
        "dot = gz.Digraph(graph_attr={'rankdir': 'LR'})\n",
        "for _, row in Base.iterrows():\n",
        "    aplicacao = re.sub(r\"[^\\w:/-]\", \"\", row[\"Nome\"])\n",
        "    origem = re.sub(r\"\\W\", \"\", row[\"PastaOrigem\"])\n",
        "    backup =  re.sub(r\"\\W\", \"\", row[\"PastaBackup\"]) if not pd.isnull(row['PastaBackup']) else \"\"\n",
        "\n",
        "    if backup is not None:\n",
        "\n",
        "        if origem not in grafo:\n",
        "            grafo[origem] = []\n",
        "\n",
        "            label = f\"{origem}\\n{row['Nome']}\"\n",
        "            dot.node(origem, label=label)\n",
        "\n",
        "        grafo[origem].append(backup)\n",
        "\n",
        "        dot.node(backup)\n",
        "\n",
        "        grafo[origem].append(backup)\n",
        "\n",
        "        dot.node(backup)\n",
        "\n",
        "for k, v in grafo.items():\n",
        "    for n in v:\n",
        "        dot.edge(k, n)\n",
        "\n",
        "dot.attr(rank='same')\n",
        "for i, node in enumerate(grafo.keys()):\n",
        "    dot.attr(rank='same', _attributes={'rank': 'same', 'same': f'{node};'})\n",
        "\n",
        "dot.render('OrigemBackup', format='pdf', cleanup=True)\n",
        "print(\"Diagrama do grafo dividido em camadas verticais gerado com sucesso como 'OrigemBackup.pdf'\")"
      ],
      "metadata": {
        "colab": {
          "base_uri": "https://localhost:8080/"
        },
        "id": "sbt24UFnZW1c",
        "outputId": "356148d7-4630-463f-be08-833613bdf222"
      },
      "execution_count": null,
      "outputs": [
        {
          "output_type": "stream",
          "name": "stdout",
          "text": [
            "Diagrama do grafo dividido em camadas verticais gerado com sucesso como 'OrigemBackup.pdf'\n"
          ]
        }
      ]
    },
    {
      "cell_type": "markdown",
      "source": [
        "#Com Comentário"
      ],
      "metadata": {
        "id": "G3N3vkNqY-hI"
      }
    },
    {
      "cell_type": "code",
      "source": [
        "import graphviz as gz ##Importar a Biblioteca GraphViz para possibilitar construção dos Grafos\n",
        "import pandas as pd ##Importar a Biblioteca Pandas para leitura do Gráfico\n",
        "import re\n",
        "\n",
        "url = \"https://raw.githubusercontent.com/gabakiwa/Hackathon/main/baseparateste-1.csv\" ##Carregar dados\n",
        "Base = pd.read_csv(url) ##Colocar a base de dados em um DataFrame\n",
        "\n",
        "grafo = {} ##Origem do Grafo, em lista de conjunto vazio\n",
        "dot = gz.Digraph(graph_attr={'rankdir': 'LR'})  # Definição do layout hierárquico a partir OBS 1 e OBS 2\n",
        "for _, row in Base.iterrows(): ##Iteração para cada linha da base de dados\n",
        "    aplicacao = re.sub(r\"[^\\w:/-]\", \"\", row[\"Nome\"]) ##Leitura de cada linha da coluna \"Nome\", com exclusão de caracteres especiais exceto \"-\" e \":\"\n",
        "    origem = re.sub(r\"\\W\", \"\", row[\"PastaOrigem\"]) ##Leitura de cada linha da coluna \"PastaOrigem\", com exclusão de caracteres especiais OBS 3\n",
        "    destino =  re.sub(r\"\\W\", \"\", row[\"PastaDestino\"]) if not pd.isnull(row['PastaDestino']) else \"\"  ##Leitura de cada linha da coluna \"PastaDestino\", com exclusão de caracteres especiais OBS 3\n",
        "\n",
        "    # Inclusão de relação entre PastaOrigem e PastaDestino (se houver) OBS 4\n",
        "    if destino is not None: ##Executa se PastaDestino não for célula vazia\n",
        "        # Inclusão da PastaOrigem ao grafo se ainda não estiver presente\n",
        "        if origem not in grafo: ##Se a PastaOrigem não estiver Grafo\n",
        "            grafo[origem] = [] ##Se a PastaOrigem não estiver na lista do Grafo, é adicionada\n",
        "            # Inclusão da apliicação da coluna Nome como um rótulo ao lado da PastaOrigem\n",
        "            label = f\"{origem}\\n{row['Nome']}\" ##Inclusão do Nome na label\n",
        "            dot.node(origem, label=label) #Rótulo acrescentado ao nó\n",
        "\n",
        "        grafo[origem].append(destino) # Acrréscimo do PastaDestino ao grafo\n",
        "\n",
        "        dot.node(destino)  # Adicionar do nó de PastaDestino\n",
        "\n",
        "for k, v in grafo.items(): #Itera um par de conjunto PastaOrigem->PastaDestino\n",
        "    for n in v: ##Itera para cada PastaDestino\n",
        "        dot.edge(k, n) #Criação da Conexão\n",
        "\n",
        "dot.attr(rank='same') #Colocar nós na mesma direção\n",
        "for i, node in enumerate(grafo.keys()): #Itera os dizeres da PastaOrigem\n",
        "    dot.attr(rank='same', _attributes={'rank': 'same', 'same': f'{node};'}) ##Auxílio da organização dos nós na vertical\n",
        "\n",
        "dot.render('OrigemDestino', format='pdf', cleanup=True) ##Renderizar o Grafo em um arquivo PDF OBS 5\n",
        "print(\"Diagrama do grafo dividido em camadas verticais gerado com sucesso como 'OrigemDestino.pdf'\") #Mensagem para sinalização da conclusão da geração do PDF"
      ],
      "metadata": {
        "colab": {
          "base_uri": "https://localhost:8080/"
        },
        "id": "xOsr0QF8YH9p",
        "outputId": "30ce6e3f-9d84-407d-b32c-e02aeb467b76"
      },
      "execution_count": null,
      "outputs": [
        {
          "output_type": "stream",
          "name": "stdout",
          "text": [
            "Diagrama do grafo dividido em camadas verticais gerado com sucesso como 'OrigemDestino.pdf'\n"
          ]
        }
      ]
    },
    {
      "cell_type": "code",
      "execution_count": null,
      "metadata": {
        "colab": {
          "base_uri": "https://localhost:8080/"
        },
        "id": "eRJJ4gP8XpyA",
        "outputId": "b1798f7e-8fe1-47bb-82d3-068c71f72d4a"
      },
      "outputs": [
        {
          "output_type": "stream",
          "name": "stdout",
          "text": [
            "Diagrama do grafo dividido em camadas verticais gerado com sucesso como 'OrigemBackup.pdf'\n"
          ]
        }
      ],
      "source": [
        "import graphviz as gz ##Importar a Biblioteca GraphViz para possibilitar construção dos Grafos\n",
        "import pandas as pd ##Importar a Biblioteca Pandas para leitura do Gráfico\n",
        "\n",
        "url = \"https://raw.githubusercontent.com/gabakiwa/Hackathon/main/baseparateste-1.csv\" ##Carregar dados\n",
        "Base = pd.read_csv(url) ##Colocar a base de dados em um DataFrame\n",
        "\n",
        "grafo = {} ##Origem do Grafo, em lista de conjunto vazio\n",
        "dot = gz.Digraph(graph_attr={'rankdir': 'LR'})  # Definição do layout hierárquico a partir OBS 1 e OBS 2\n",
        "for _, row in Base.iterrows(): ##Iteração para cada linha da base de dados\n",
        "    aplicacao = re.sub(r\"[^\\w:/-]\", \"\", row[\"Nome\"]) ##Leitura de cada linha da coluna \"Nome\", com exclusão de caracteres especiais exceto \"-\" e \":\"\n",
        "    origem = re.sub(r\"\\W\", \"\", row[\"PastaOrigem\"]) ##Leitura de cada linha da coluna \"PastaOrigem\", com exclusão de caracteres especiais OBS 3\n",
        "    backup =  re.sub(r\"\\W\", \"\", row[\"PastaBackup\"]) if not pd.isnull(row['PastaBackup']) else \"\"  ##Leitura de cada linha da coluna \"PastaBackup\", com exclusão de caracteres especiais OBS 3\n",
        "\n",
        "    # Inclusão de relação entre PastaOrigem e PastaBackup (se houver) OBS 4\n",
        "    if backup is not None: ##Executa se BackUp não for célula vazia\n",
        "        # Inclusão da PastaOrigem ao grafo se ainda não estiver presente\n",
        "        if origem not in grafo: ##Se a PastaOrigem não estiver Grafo\n",
        "            grafo[origem] = [] ##Se a PastaOrigem não estiver na lista do Grafo, é adicionada\n",
        "            # Inclusão da apliicação da coluna Nome como um rótulo ao lado da PastaOrigem\n",
        "            label = f\"{origem}\\n{row['Nome']}\" ##Inclusão do Nome na label\n",
        "            dot.node(origem, label=label) #Rótulo acrescentado ao nó\n",
        "\n",
        "        grafo[origem].append(backup) # Acrréscimo do backup ao grafo\n",
        "\n",
        "        dot.node(backup)  # Adicionar do nó de backup\n",
        "\n",
        "for k, v in grafo.items(): #Itera um par de conjunto PastaOrigem->PastaBackUp\n",
        "    for n in v: ##Itera para cada BackUp\n",
        "        dot.edge(k, n) #Criação da Conexão\n",
        "\n",
        "dot.attr(rank='same') #Colocar nós na mesma direção\n",
        "for i, node in enumerate(grafo.keys()): #Itera os dizeres da PastaOrigem\n",
        "    dot.attr(rank='same', _attributes={'rank': 'same', 'same': f'{node};'}) ##Auxílio da organização dos nós na vertical\n",
        "\n",
        "dot.render('OrigemBackup', format='pdf', cleanup=True) ##Renderizar o Grafo em um arquivo PDF OBS 5\n",
        "print(\"Diagrama do grafo dividido em camadas verticais gerado com sucesso como 'OrigemBackup.pdf'\") #Mensagem para sinalização da conclusão da geração do PDF"
      ]
    },
    {
      "cell_type": "markdown",
      "source": [
        "**OBS 1** : para a análise da atribuição do layout hierarquico, vale ressaltar que, por melhor visualização do grafo gerado, se deu preferência ao LR (*Left to Right*) em detretimento de TB (*Top to Bottom*).\n",
        "Em uma visualização orientada na vertical se tem maior controla da largura da imagem, o que facilita sua manipulação caso necessário.\n",
        "\n",
        "**OBS 2** : optou-se, para a construção do grafo, pela biblioteca GraphViz pela sua praticidade e adaptação ao código elaborado. Foram aventadas outras alternativas, como MatPlotLib e NetworkX, para execução mas, devido ao layout limitado que ambas oferecem e que não eram do propósito de apresentação, foram excluidas.\n",
        "\n",
        "**OBS 3** : devido a presença do caractere \"\\\\\" na base de dados, se teve dificuldade em encontrar uma alternativa possível de contornar o erro de leitura que se tem no código caso não exclua. Para tanto, foram realizados, infelizmente sem sucesso, testes para contornar o problema.\n",
        "Uma das alternativas mais 'plausiveis' foi a consideração da substituição de \"\\\\\" por, exclusivamente,  \"_\", uma vez demais caracteres impossibilitavam a conclusão do código. O problema identificado foi o de desformatação do grafo após a geração do PDF.\n",
        "\n",
        "**OBS 4** : se tem o auxílio para que não exista conflito de informações e/ou erro no código caso se identifique uma eventual célula vazia.\n",
        "\n",
        "**OBS 5** : ao pensar na praticidade e melhor visualização, optou-se pelo formato .PDF. Assim, espera-se facilitar não somente a utilidade do grafo mas também no compartilhamento dos arquivos uma vez que, por vezes, pode se ter o cenário de dificuldade para abertura da imagem."
      ],
      "metadata": {
        "id": "I4QTuLDjlD3I"
      }
    }
  ]
}